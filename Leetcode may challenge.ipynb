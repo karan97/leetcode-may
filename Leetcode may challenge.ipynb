{
 "cells": [
  {
   "cell_type": "markdown",
   "metadata": {},
   "source": [
    "# Firs"
   ]
  },
  {
   "cell_type": "code",
   "execution_count": 3,
   "metadata": {},
   "outputs": [],
   "source": [
    "class Solution:\n",
    "    def firstBadVersion(self,n):\n",
    "        self.n = n\n",
    "        start = 1\n",
    "        end = n\n",
    "        \n",
    "        while(start<end):\n",
    "            \n",
    "            mid = start + (end-start)//2\n",
    "            \n",
    "            if (isBadVersion(mid)):\n",
    "                end = mid\n",
    "            else:\n",
    "                start = mid+1\n",
    "                \n",
    "        return start\n"
   ]
  },
  {
   "cell_type": "code",
   "execution_count": null,
   "metadata": {},
   "outputs": [],
   "source": []
  }
 ],
 "metadata": {
  "kernelspec": {
   "display_name": "Python 3",
   "language": "python",
   "name": "python3"
  },
  "language_info": {
   "codemirror_mode": {
    "name": "ipython",
    "version": 3
   },
   "file_extension": ".py",
   "mimetype": "text/x-python",
   "name": "python",
   "nbconvert_exporter": "python",
   "pygments_lexer": "ipython3",
   "version": "3.7.4"
  }
 },
 "nbformat": 4,
 "nbformat_minor": 2
}
