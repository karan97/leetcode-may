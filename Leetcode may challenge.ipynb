{
 "cells": [
  {
   "cell_type": "markdown",
   "metadata": {},
   "source": [
    "You are a product manager and currently leading a team to develop a new product. Unfortunately, the latest version of your product fails the quality check. Since each version is developed based on the previous version, all the versions after a bad version are also bad.\n",
    "\n",
    "Suppose you have n versions [1, 2, ..., n] and you want to find out the first bad one, which causes all the following ones to be bad.\n",
    "\n",
    "You are given an API bool isBadVersion(version) which will return whether version is bad. Implement a function to find the first bad version. You should minimize the number of calls to the API.\n",
    "\n"
   ]
  },
  {
   "cell_type": "code",
   "execution_count": 4,
   "metadata": {},
   "outputs": [],
   "source": [
    "class Solution:\n",
    "    def firstBadVersion(self,n):\n",
    "        self.n = n\n",
    "        start = 1\n",
    "        end = n\n",
    "        \n",
    "        while(start<end):\n",
    "            \n",
    "            mid = start + (end-start)//2\n",
    "            \n",
    "            if (isBadVersion(mid)):\n",
    "                end = mid\n",
    "            else:\n",
    "                start = mid+1\n",
    "                \n",
    "        return start\n"
   ]
  },
  {
   "cell_type": "markdown",
   "metadata": {},
   "source": [
    "You're given strings J representing the types of stones that are jewels, and S representing the stones you have.  Each character in S is a type of stone you have.  You want to know how many of the stones you have are also jewels.\n",
    "\n",
    "The letters in J are guaranteed distinct, and all characters in J and S are letters. Letters are case sensitive, so \"a\" is considered a different type of stone from \"A\"."
   ]
  },
  {
   "cell_type": "code",
   "execution_count": 2,
   "metadata": {},
   "outputs": [],
   "source": [
    "class Solution:\n",
    "    def numJewelsInStones(self, J: str, S: str) -> int:\n",
    "        \n",
    "        return sum([s in J for s in S])"
   ]
  },
  {
   "cell_type": "markdown",
   "metadata": {},
   "source": [
    "Given a positive integer, output its complement number. The complement strategy is to flip the bits of its binary representation."
   ]
  },
  {
   "cell_type": "code",
   "execution_count": 1,
   "metadata": {},
   "outputs": [],
   "source": [
    "class Solution:\n",
    "    def findComplement(self, num: int) -> int:\n",
    "        l = []\n",
    "        t = []\n",
    "        b = []\n",
    "        while num!=0:\n",
    "            n = num%2\n",
    "            l.append(n)\n",
    "            num = num//2\n",
    "\n",
    "        for i in l:\n",
    "            if i==1:\n",
    "                t.append(0)\n",
    "            else:\n",
    "                t.append(1)\n",
    "        for j in range(len(t)):\n",
    "            a = t[j] * math.pow(2,j)\n",
    "            b.append(a)\n",
    "            s = sum(b)\n",
    "\n",
    "        return int(s)\n"
   ]
  },
  {
   "cell_type": "markdown",
   "metadata": {},
   "source": [
    "In a binary tree, the root node is at depth 0, and children of each depth k node are at depth k+1.\n",
    "\n",
    "Two nodes of a binary tree are cousins if they have the same depth, but have different parents.\n",
    "\n",
    "We are given the root of a binary tree with unique values, and the values x and y of two different nodes in the tree.\n",
    "\n",
    "Return true if and only if the nodes corresponding to the values x and y are cousins."
   ]
  },
  {
   "cell_type": "code",
   "execution_count": 3,
   "metadata": {},
   "outputs": [],
   "source": [
    "class TreeNode:\n",
    "    def __init__(self, val=0, left=None, right=None):\n",
    "        self.val = val\n",
    "        self.left = left\n",
    "        self.right = right\n",
    "\n",
    "class Solution:\n",
    "    def isCousins(self, root: TreeNode, x: int, y: int) -> bool:\n",
    "        if not root:\n",
    "            return root\n",
    "        queue = collections.deque([root])\n",
    "        level = set()\n",
    "        last = n_last = root\n",
    "        while any(queue):\n",
    "            node = queue.popleft()\n",
    "            same_father = set()\n",
    "            if node.left:\n",
    "                level.add(node.left.val)\n",
    "                queue.append(node.left)\n",
    "                n_last = node.left\n",
    "                same_father.add(node.left.val)\n",
    "            if node.right:\n",
    "                level.add(node.right.val)\n",
    "                queue.append(node.right)\n",
    "                n_last = node.right\n",
    "                same_father.add(node.right.val)\n",
    "            if x in same_father and y in same_father:\n",
    "                return False\n",
    "            if node == last:\n",
    "                last = n_last\n",
    "                if x in level and y in level:\n",
    "                    return True\n",
    "                level = set()\n",
    "        return False\n",
    "        "
   ]
  },
  {
   "cell_type": "markdown",
   "metadata": {},
   "source": [
    "Given a singly linked list, group all odd nodes together followed by the even nodes. Please note here we are talking about the node number and not the value in the nodes."
   ]
  },
  {
   "cell_type": "code",
   "execution_count": null,
   "metadata": {},
   "outputs": [],
   "source": [
    "class Solution:\n",
    "    \n",
    "    def oddEvenList(self, head: ListNode) -> ListNode:\n",
    "        \n",
    "        if head==None or head.next==None:\n",
    "            return head\n",
    "        else:\n",
    "            odd = head\n",
    "            even = head.next\n",
    "            evenHead = even\n",
    "\n",
    "            while even!=None and even.next!=None:\n",
    "                odd.next = even.next\n",
    "                odd = odd.next\n",
    "\n",
    "                even.next = odd.next\n",
    "                even = even.next\n",
    "\n",
    "            odd.next = evenHead\n",
    "            return head"
   ]
  }
 ],
 "metadata": {
  "kernelspec": {
   "display_name": "Python 3",
   "language": "python",
   "name": "python3"
  },
  "language_info": {
   "codemirror_mode": {
    "name": "ipython",
    "version": 3
   },
   "file_extension": ".py",
   "mimetype": "text/x-python",
   "name": "python",
   "nbconvert_exporter": "python",
   "pygments_lexer": "ipython3",
   "version": "3.7.4"
  }
 },
 "nbformat": 4,
 "nbformat_minor": 2
}
